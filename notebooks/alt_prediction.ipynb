{
 "cells": [
  {
   "cell_type": "code",
   "execution_count": 2,
   "metadata": {},
   "outputs": [],
   "source": [
    "import pandas as pd\n",
    "from scipy import stats\n",
    "import seaborn as sns\n",
    "import matplotlib.pyplot as plt\n",
    "from sklearn.model_selection import GridSearchCV\n",
    "from sklearn.linear_model import LinearRegression, Lasso\n",
    "from sklearn.model_selection import train_test_split, RepeatedStratifiedKFold, RepeatedKFold, StratifiedKFold\n",
    "from sklearn.metrics import r2_score, mean_absolute_error, mean_squared_error\n",
    "from sklearn.ensemble import RandomForestRegressor\n"
   ]
  },
  {
   "cell_type": "markdown",
   "metadata": {},
   "source": [
    "#### Loading data after preprocessing"
   ]
  },
  {
   "cell_type": "code",
   "execution_count": 3,
   "metadata": {},
   "outputs": [],
   "source": [
    "data_train  = pd.read_csv(\"../data/alt_maccsfp_after_preprocessing.csv\")"
   ]
  },
  {
   "cell_type": "markdown",
   "metadata": {},
   "source": [
    "#### Splitting data into training and test sets"
   ]
  },
  {
   "cell_type": "code",
   "execution_count": 4,
   "metadata": {},
   "outputs": [
    {
     "name": "stdout",
     "output_type": "stream",
     "text": [
      "(77, 124)\n",
      "(20, 124)\n"
     ]
    }
   ],
   "source": [
    "y = data_train['ALT']\n",
    "del data_train['ALT']\n",
    "X = data_train.values\n",
    "y = y.values\n",
    "\n",
    "# podzielenie danych na dwa zbiory testowy i treningowy\n",
    "\n",
    "X_train, X_test, y_train, y_test = train_test_split(X, y, test_size=0.2, random_state=42)\n",
    "print(X_train.shape)\n",
    "print(X_test.shape)"
   ]
  },
  {
   "cell_type": "markdown",
   "metadata": {},
   "source": [
    "#### Split dataset into k consecutive folds"
   ]
  },
  {
   "cell_type": "code",
   "execution_count": 7,
   "metadata": {},
   "outputs": [
    {
     "data": {
      "text/plain": [
       "[(array([ 0,  2,  3,  5,  7,  8,  9, 11, 13, 14, 15, 16, 19, 20, 21, 22, 23,\n",
       "         24, 26, 27, 28, 30, 33, 34, 36, 38, 39, 41, 42, 43, 44, 45, 46, 47,\n",
       "         48, 49, 50, 51, 52, 53, 55, 56, 58, 60, 61, 62, 63, 66, 67, 68, 69,\n",
       "         70, 71, 72, 73, 74, 75, 76, 77, 78, 79, 80, 81, 82, 83, 84, 85, 86,\n",
       "         88, 89, 90, 91, 92, 93, 94, 95, 96]),\n",
       "  array([ 1,  4,  6, 10, 12, 17, 18, 25, 29, 31, 32, 35, 37, 40, 54, 57, 59,\n",
       "         64, 65, 87])),\n",
       " (array([ 0,  1,  2,  4,  5,  6, 10, 11, 12, 13, 14, 15, 16, 17, 18, 19, 20,\n",
       "         22, 24, 25, 26, 27, 28, 29, 30, 31, 32, 33, 34, 35, 36, 37, 38, 39,\n",
       "         40, 42, 44, 45, 46, 47, 48, 51, 52, 53, 54, 55, 56, 57, 58, 59, 60,\n",
       "         61, 62, 63, 64, 65, 66, 67, 69, 70, 71, 73, 75, 76, 78, 79, 80, 81,\n",
       "         82, 84, 85, 87, 89, 90, 94, 95, 96]),\n",
       "  array([ 3,  7,  8,  9, 21, 23, 41, 43, 49, 50, 68, 72, 74, 77, 83, 86, 88,\n",
       "         91, 92, 93])),\n",
       " (array([ 1,  2,  3,  4,  5,  6,  7,  8,  9, 10, 11, 12, 13, 14, 16, 17, 18,\n",
       "         20, 21, 23, 24, 25, 26, 28, 29, 30, 31, 32, 33, 35, 36, 37, 39, 40,\n",
       "         41, 42, 43, 45, 46, 47, 48, 49, 50, 51, 54, 57, 59, 60, 61, 62, 63,\n",
       "         64, 65, 68, 69, 70, 71, 72, 73, 74, 75, 76, 77, 78, 79, 80, 81, 82,\n",
       "         83, 86, 87, 88, 89, 91, 92, 93, 94, 95]),\n",
       "  array([ 0, 15, 19, 22, 27, 34, 38, 44, 52, 53, 55, 56, 58, 66, 67, 84, 85,\n",
       "         90, 96])),\n",
       " (array([ 0,  1,  2,  3,  4,  6,  7,  8,  9, 10, 12, 14, 15, 16, 17, 18, 19,\n",
       "         21, 22, 23, 25, 27, 28, 29, 30, 31, 32, 34, 35, 36, 37, 38, 39, 40,\n",
       "         41, 43, 44, 45, 46, 49, 50, 51, 52, 53, 54, 55, 56, 57, 58, 59, 60,\n",
       "         61, 62, 63, 64, 65, 66, 67, 68, 69, 70, 72, 73, 74, 76, 77, 83, 84,\n",
       "         85, 86, 87, 88, 90, 91, 92, 93, 94, 96]),\n",
       "  array([ 5, 11, 13, 20, 24, 26, 33, 42, 47, 48, 71, 75, 78, 79, 80, 81, 82,\n",
       "         89, 95])),\n",
       " (array([ 0,  1,  3,  4,  5,  6,  7,  8,  9, 10, 11, 12, 13, 15, 17, 18, 19,\n",
       "         20, 21, 22, 23, 24, 25, 26, 27, 29, 31, 32, 33, 34, 35, 37, 38, 40,\n",
       "         41, 42, 43, 44, 47, 48, 49, 50, 52, 53, 54, 55, 56, 57, 58, 59, 64,\n",
       "         65, 66, 67, 68, 71, 72, 74, 75, 77, 78, 79, 80, 81, 82, 83, 84, 85,\n",
       "         86, 87, 88, 89, 90, 91, 92, 93, 95, 96]),\n",
       "  array([ 2, 14, 16, 28, 30, 36, 39, 45, 46, 51, 60, 61, 62, 63, 69, 70, 73,\n",
       "         76, 94]))]"
      ]
     },
     "execution_count": 7,
     "metadata": {},
     "output_type": "execute_result"
    }
   ],
   "source": [
    "kf = RepeatedKFold(n_splits=5, n_repeats=1, random_state=666)\n",
    "kf_split_generator = kf.split(X)\n",
    "list(kf.split(X))"
   ]
  },
  {
   "cell_type": "markdown",
   "metadata": {},
   "source": [
    "#### LASSO "
   ]
  },
  {
   "cell_type": "code",
   "execution_count": null,
   "metadata": {},
   "outputs": [],
   "source": [
    "param_grid = {'alpha':[0.0001,0.001, 0.005, 0.01,0.05,0.1,0.5,1]}\n",
    "grid_cv_lr = GridSearchCV(Lasso(), param_grid, scoring='r2', cv=kf, return_train_score=True, verbose=1000)\n",
    "grid_cv_lr_fit = grid_cv_lr.fit(X_train, y_train)"
   ]
  },
  {
   "cell_type": "code",
   "execution_count": null,
   "metadata": {},
   "outputs": [],
   "source": []
  },
  {
   "cell_type": "code",
   "execution_count": null,
   "metadata": {},
   "outputs": [],
   "source": [
    "print(grid_cv_lr_fit.best_score_)\n",
    "print(grid_cv_lr_fit.best_params_)\n",
    "print(grid_cv_lr_fit.cv_results_)"
   ]
  },
  {
   "cell_type": "code",
   "execution_count": null,
   "metadata": {},
   "outputs": [],
   "source": [
    "lasso_model = Lasso(alpha =  0.5)\n",
    "lasso_model.fit(X_train, y_train)"
   ]
  },
  {
   "cell_type": "code",
   "execution_count": null,
   "metadata": {},
   "outputs": [],
   "source": [
    "Y_pred_train = lasso_model.predict(X_train)\n",
    "print(\"Accuracy R2 --> \", lasso_model.score(X_train, y_train))"
   ]
  },
  {
   "cell_type": "code",
   "execution_count": null,
   "metadata": {},
   "outputs": [],
   "source": [
    "Y_pred_test = lasso_model.predict(X_test)\n",
    "print(\"Accuracy R2 --> \", lasso_model.score(X_test, y_test))"
   ]
  },
  {
   "cell_type": "markdown",
   "metadata": {},
   "source": [
    "#### RANDOM FOREST REGRESSOR"
   ]
  },
  {
   "cell_type": "code",
   "execution_count": null,
   "metadata": {},
   "outputs": [],
   "source": [
    "param_grid_rfr={\"n_estimators\": [1, 5, 10, 20, 30, 40, 50, 100],\n",
    "            \"max_features\": [\"auto\", \"sqrt\", \"log2\"],\n",
    "            \"min_samples_split\": [2, 4, 8, 16],\n",
    "            \"bootstrap\": [True, False],\n",
    "}"
   ]
  },
  {
   "cell_type": "code",
   "execution_count": null,
   "metadata": {},
   "outputs": [],
   "source": [
    "grid_RandomForestRegressor = GridSearchCV(RandomForestRegressor(), param_grid_rfr, scoring='r2', cv=kf, n_jobs=-1, return_train_score=True, verbose=1000)\n",
    "\n",
    "grid_RandomForestRegressor.fit(X_train, y_train)"
   ]
  },
  {
   "cell_type": "code",
   "execution_count": null,
   "metadata": {},
   "outputs": [],
   "source": [
    "print(grid_RandomForestRegressor.best_score_)\n",
    "print(grid_RandomForestRegressor.best_params_)\n",
    "print(grid_RandomForestRegressor.cv_results_)"
   ]
  },
  {
   "cell_type": "code",
   "execution_count": null,
   "metadata": {},
   "outputs": [],
   "source": [
    "rfr_model = RandomForestRegressor(bootstrap =  False, max_features = 'log2', min_samples_split = 8, n_estimators = 40, random_state=12312)\n",
    "rfr_model.fit(X_train, y_train)"
   ]
  },
  {
   "cell_type": "code",
   "execution_count": null,
   "metadata": {},
   "outputs": [],
   "source": [
    "Y_pred_train_rfr = rfr_model.predict(X_train)\n",
    "print(\"Accuracy R2 --> \", rfr_model.score(X_train, y_train))"
   ]
  },
  {
   "cell_type": "code",
   "execution_count": null,
   "metadata": {},
   "outputs": [],
   "source": [
    "Y_pred_test_rfr = rfr_model.predict(X_test)\n",
    "print(\"Accuracy R2 --> \", rfr_model.score(X_test, y_test))"
   ]
  }
 ],
 "metadata": {
  "kernelspec": {
   "display_name": "Python 3",
   "language": "python",
   "name": "python3"
  },
  "language_info": {
   "codemirror_mode": {
    "name": "ipython",
    "version": 3
   },
   "file_extension": ".py",
   "mimetype": "text/x-python",
   "name": "python",
   "nbconvert_exporter": "python",
   "pygments_lexer": "ipython3",
   "version": "3.7.6"
  }
 },
 "nbformat": 4,
 "nbformat_minor": 4
}
